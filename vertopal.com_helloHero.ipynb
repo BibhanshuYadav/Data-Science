{
 "cells": [
  {
   "cell_type": "markdown",
   "metadata": {},
   "source": [
    "{ “cells”: \\[ { “cell_type”: “code”, “execution_count”: 2, “id”:\n",
    "“e6a2adba-9104-447d-8f31-d82a69756c40”, “metadata”: {}, “outputs”: \\[ {\n",
    "“data”: { “text/plain”: \\[ “‘hehe’” \\] }, “execution_count”: 2,\n",
    "“metadata”: {}, “output_type”: “execute_result” } \\], “source”: \\[\n",
    "“\"hehe\"” \\] }, { “cell_type”: “raw”, “id”:\n",
    "“2cd7d71c-21db-4f3f-8f44-ab1485d7188a”, “metadata”: {}, “source”: \\[\\] }\n",
    "\\], “metadata”: { “kernelspec”: { “display_name”: “Python 3\n",
    "(ipykernel)”, “language”: “python”, “name”: “python3” },\n",
    "“language_info”: { “codemirror_mode”: { “name”: “ipython”, “version”: 3\n",
    "}, “file_extension”: “.py”, “mimetype”: “text/x-python”, “name”:\n",
    "“python”, “nbconvert_exporter”: “python”, “pygments_lexer”: “ipython3”,\n",
    "“version”: “3.12.7” } }, “nbformat”: 4, “nbformat_minor”: 5 }"
   ],
   "id": "42a14256-91c8-446e-92a7-ab6bf11055d3"
  }
 ],
 "nbformat": 4,
 "nbformat_minor": 5,
 "metadata": {}
}
